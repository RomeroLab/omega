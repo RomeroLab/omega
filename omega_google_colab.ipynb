{
  "nbformat": 4,
  "nbformat_minor": 0,
  "metadata": {
    "colab": {
      "private_outputs": true,
      "provenance": [],
      "authorship_tag": "ABX9TyMGS/MJym1SBc1G4AYqziPH",
      "include_colab_link": true
    },
    "kernelspec": {
      "name": "python3",
      "display_name": "Python 3"
    },
    "language_info": {
      "name": "python"
    }
  },
  "cells": [
    {
      "cell_type": "markdown",
      "metadata": {
        "id": "view-in-github",
        "colab_type": "text"
      },
      "source": [
        "<a href=\"https://colab.research.google.com/github/RomeroLab/omega/blob/main/omega_google_colab.ipynb\" target=\"_parent\"><img src=\"https://colab.research.google.com/assets/colab-badge.svg\" alt=\"Open In Colab\"/></a>"
      ]
    },
    {
      "cell_type": "markdown",
      "source": [
        "# About\n",
        "\n",
        "This is a Google Colab notebook that runs OMEGA. To use and make edits, save a copy to your Google Drive.\n",
        "\n",
        "Below, we include all code to install OMEGA and required dependencies.\n",
        "\n",
        "\n",
        "# Change runtime type to improve speed\n",
        "\n",
        "The TPU runtime offers a significant speed boost over the default Google Colab runtime. To take advantage of this, go to Runtime --> Change runtime type and select `v2-8 TPU`."
      ],
      "metadata": {
        "id": "8asztliCgExc"
      }
    },
    {
      "cell_type": "markdown",
      "source": [
        "# Install dependencies and OMEGA"
      ],
      "metadata": {
        "id": "cvf-Lw6QgJGq"
      }
    },
    {
      "cell_type": "code",
      "execution_count": null,
      "metadata": {
        "id": "_3VGQqIegB7T"
      },
      "outputs": [],
      "source": [
        "!pip install biopython==1.83\n",
        "!pip install numpy==2 # 1.26.0\n",
        "!pip install jsonargparse\n",
        "!pip install more-itertools==10.6.0\n",
        "\n",
        "# install omega\n",
        "!git clone git@github.com:RomeroLab/omega.git\n"
      ]
    },
    {
      "cell_type": "markdown",
      "source": [
        "# Test OMEGA"
      ],
      "metadata": {
        "id": "bwKc-RMugNjx"
      }
    },
    {
      "cell_type": "code",
      "source": [
        "OMEGA=\"./omega\""
      ],
      "metadata": {
        "id": "KhhV4y6HgURz"
      },
      "execution_count": null,
      "outputs": []
    },
    {
      "cell_type": "markdown",
      "source": [
        "### Verify install"
      ],
      "metadata": {
        "id": "HXtDjDK9gYu5"
      }
    },
    {
      "cell_type": "code",
      "source": [
        "!python $OMEGA/code/omega.py genes --config $OMEGA/configs/test_install.yml \\\n",
        "    --input_seqs $OMEGA/data/fastas/gfp_test_install.fasta \\\n",
        "    --primers $OMEGA/data/test_primers.csv"
      ],
      "metadata": {
        "id": "6Gp3Ez_zgY9v"
      },
      "execution_count": null,
      "outputs": []
    },
    {
      "cell_type": "markdown",
      "source": [
        "### Test full optimization\n",
        "\n",
        "Google colab has limited CPUs, so optimization time will take longer. The following code takes ~7 minutes to run. This is not required, but is here to demonstrate how designing a full library will work."
      ],
      "metadata": {
        "id": "unTJu8rMg2Pw"
      }
    },
    {
      "cell_type": "code",
      "source": [
        "!python $OMEGA/code/omega.py genes --config $OMEGA/configs/genes_test.yml \\\n",
        "    --input_seqs $OMEGA/data/fastas/gfp_lib_450-550.fasta \\\n",
        "    --primers $OMEGA/data/test_primers.csv"
      ],
      "metadata": {
        "id": "18EvBOwCg2d8"
      },
      "execution_count": null,
      "outputs": []
    },
    {
      "cell_type": "markdown",
      "source": [
        "# Optimize your own job\n",
        "\n",
        "To optimize your own library, upload your sequences in fasta format and run the following command. Customize parameters for your library design needs. Anything in `[]` indicates parameters that must be customized."
      ],
      "metadata": {
        "id": "uirFooJDg6dF"
      }
    },
    {
      "cell_type": "code",
      "source": [
        "!python $OMEGA/code/omega.py genes --config $OMEGAconfigs/template.yml \\\n",
        "    --input_seqs [.fasta file of library sequences] \\\n",
        "    --njunctions [number of GG sites per subpool] \\\n",
        "    --upstream_bbsite [upstream backbone GG site] \\\n",
        "    --downstream_bbsite [downstream backbone GG site] \\\n",
        "    --primers ./data/test_primers.csv \\\n",
        "    --nopt_steps 1000 \\\n",
        "    --nopt_runs 5"
      ],
      "metadata": {
        "id": "Mfcs3qLzg8bC"
      },
      "execution_count": null,
      "outputs": []
    }
  ]
}